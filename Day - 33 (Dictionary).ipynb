{
 "cells": [
  {
   "cell_type": "code",
   "execution_count": 1,
   "id": "6ad75e0e",
   "metadata": {},
   "outputs": [],
   "source": [
    "dict = {\n",
    "    1 : \"Tahmid\",\n",
    "    2 : \"Rafi\",\n",
    "    3 : \"Tahmid Rafi\"\n",
    "}"
   ]
  },
  {
   "cell_type": "code",
   "execution_count": 7,
   "id": "84492ae4",
   "metadata": {},
   "outputs": [
    {
     "name": "stdout",
     "output_type": "stream",
     "text": [
      "Rafi\n",
      "Rafi\n"
     ]
    }
   ],
   "source": [
    "# This will throw an error if doesn't exist\n",
    "print(dict[2])\n",
    "\n",
    "# This will print none if doesn't exist\n",
    "print(dict.get(2))"
   ]
  },
  {
   "cell_type": "code",
   "execution_count": 9,
   "id": "8ef6a0b4",
   "metadata": {},
   "outputs": [
    {
     "name": "stdout",
     "output_type": "stream",
     "text": [
      "dict_keys([1, 2, 3])\n",
      "dict_values(['Tahmid', 'Rafi', 'Tahmid Rafi'])\n"
     ]
    }
   ],
   "source": [
    "print(dict.keys())\n",
    "print(dict.values())"
   ]
  },
  {
   "cell_type": "code",
   "execution_count": 12,
   "id": "a81af598",
   "metadata": {},
   "outputs": [
    {
     "name": "stdout",
     "output_type": "stream",
     "text": [
      "Tahmid\n",
      "The value corresponding to the key1 is Tahmid\n",
      "Rafi\n",
      "The value corresponding to the key2 is Rafi\n",
      "Tahmid Rafi\n",
      "The value corresponding to the key3 is Tahmid Rafi\n"
     ]
    }
   ],
   "source": [
    "for key in dict.keys():\n",
    "    print(dict[key])\n",
    "    print(f\"The value corresponding to the key{key} is {dict[key]}\")\n"
   ]
  },
  {
   "cell_type": "code",
   "execution_count": 13,
   "id": "1b048cfc",
   "metadata": {},
   "outputs": [
    {
     "name": "stdout",
     "output_type": "stream",
     "text": [
      "dict_items([(1, 'Tahmid'), (2, 'Rafi'), (3, 'Tahmid Rafi')])\n"
     ]
    }
   ],
   "source": [
    "print(dict. items())"
   ]
  },
  {
   "cell_type": "code",
   "execution_count": 15,
   "id": "3f95196e",
   "metadata": {},
   "outputs": [
    {
     "name": "stdout",
     "output_type": "stream",
     "text": [
      "The value corresponding to the 1 is Tahmid\n",
      "The value corresponding to the 2 is Rafi\n",
      "The value corresponding to the 3 is Tahmid Rafi\n"
     ]
    }
   ],
   "source": [
    "for key, value in dict.items():\n",
    "    print(f\"The value corresponding to the {key} is {value}\")    "
   ]
  },
  {
   "cell_type": "code",
   "execution_count": null,
   "id": "0aceb61b",
   "metadata": {},
   "outputs": [],
   "source": []
  }
 ],
 "metadata": {
  "kernelspec": {
   "display_name": "Python 3",
   "language": "python",
   "name": "python3"
  },
  "language_info": {
   "codemirror_mode": {
    "name": "ipython",
    "version": 3
   },
   "file_extension": ".py",
   "mimetype": "text/x-python",
   "name": "python",
   "nbconvert_exporter": "python",
   "pygments_lexer": "ipython3",
   "version": "3.8.8"
  }
 },
 "nbformat": 4,
 "nbformat_minor": 5
}
