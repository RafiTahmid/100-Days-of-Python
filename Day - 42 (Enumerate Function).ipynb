{
 "cells": [
  {
   "cell_type": "code",
   "execution_count": 1,
   "id": "d905b01d",
   "metadata": {},
   "outputs": [],
   "source": [
    "marks = [10, 22, 50, 88, 26, 77, 65]"
   ]
  },
  {
   "cell_type": "code",
   "execution_count": 3,
   "id": "8c9445fd",
   "metadata": {},
   "outputs": [
    {
     "name": "stdout",
     "output_type": "stream",
     "text": [
      "10\n",
      "22\n",
      "50\n",
      "88\n",
      "The highest mark\n",
      "26\n",
      "77\n",
      "65\n"
     ]
    }
   ],
   "source": [
    "# The Enumerate function is a built in function that allows to loop over a sequence such as (List, tuple or string) and get the index and value of each element in the sequence at the same time\n",
    "\n",
    "for index, mark in enumerate(marks):\n",
    "    print(mark)\n",
    "    \n",
    "    if(index == 3):\n",
    "        print(\"The highest mark\")"
   ]
  },
  {
   "cell_type": "code",
   "execution_count": null,
   "id": "459b696b",
   "metadata": {},
   "outputs": [],
   "source": []
  }
 ],
 "metadata": {
  "kernelspec": {
   "display_name": "Python 3",
   "language": "python",
   "name": "python3"
  },
  "language_info": {
   "codemirror_mode": {
    "name": "ipython",
    "version": 3
   },
   "file_extension": ".py",
   "mimetype": "text/x-python",
   "name": "python",
   "nbconvert_exporter": "python",
   "pygments_lexer": "ipython3",
   "version": "3.8.8"
  }
 },
 "nbformat": 4,
 "nbformat_minor": 5
}
