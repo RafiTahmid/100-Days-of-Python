{
 "cells": [
  {
   "cell_type": "code",
   "execution_count": 1,
   "id": "0dda8b78",
   "metadata": {},
   "outputs": [],
   "source": [
    "s = {1, 2, 5, 6}\n",
    "s2 =  {3, 6, 7}"
   ]
  },
  {
   "cell_type": "code",
   "execution_count": 4,
   "id": "c5a15688",
   "metadata": {},
   "outputs": [
    {
     "name": "stdout",
     "output_type": "stream",
     "text": [
      "{1, 2, 5, 6} {3, 6, 7}\n",
      "{1, 2, 3, 5, 6, 7}\n"
     ]
    }
   ],
   "source": [
    "print(s, s2)\n",
    "print(s.union(s2))"
   ]
  },
  {
   "cell_type": "code",
   "execution_count": 5,
   "id": "2a148137",
   "metadata": {},
   "outputs": [
    {
     "name": "stdout",
     "output_type": "stream",
     "text": [
      "{1, 2, 3, 5, 6, 7} {3, 6, 7}\n"
     ]
    }
   ],
   "source": [
    "s.update(s2)\n",
    "print(s, s2)"
   ]
  },
  {
   "cell_type": "code",
   "execution_count": 7,
   "id": "e1375dc6",
   "metadata": {},
   "outputs": [],
   "source": [
    "cities = {\"Dhaka\", \"Bhola\", \"Barishal\"}\n",
    "cities2 = {\"Ctg\", \"Dhaka\", \"Rajshahi\"}"
   ]
  },
  {
   "cell_type": "code",
   "execution_count": 8,
   "id": "0baf26e0",
   "metadata": {},
   "outputs": [
    {
     "name": "stdout",
     "output_type": "stream",
     "text": [
      "{'Dhaka'}\n"
     ]
    }
   ],
   "source": [
    "print(cities. intersection(cities2))"
   ]
  },
  {
   "cell_type": "code",
   "execution_count": 9,
   "id": "e0629493",
   "metadata": {},
   "outputs": [
    {
     "name": "stdout",
     "output_type": "stream",
     "text": [
      "{'Barishal', 'Bhola', 'Rajshahi', 'Ctg'}\n"
     ]
    }
   ],
   "source": [
    "# Uncommon\n",
    "print(cities. symmetric_difference(cities2))"
   ]
  },
  {
   "cell_type": "code",
   "execution_count": 10,
   "id": "d76b57bc",
   "metadata": {
    "scrolled": true
   },
   "outputs": [
    {
     "name": "stdout",
     "output_type": "stream",
     "text": [
      "{'Barishal', 'Bhola'}\n"
     ]
    }
   ],
   "source": [
    "# A - B\n",
    "print(cities. difference(cities2))"
   ]
  },
  {
   "cell_type": "code",
   "execution_count": 11,
   "id": "d6c6cf95",
   "metadata": {},
   "outputs": [
    {
     "name": "stdout",
     "output_type": "stream",
     "text": [
      "None\n"
     ]
    }
   ],
   "source": [
    "print(cities. difference_update(cities2))"
   ]
  },
  {
   "cell_type": "code",
   "execution_count": 12,
   "id": "e02c1658",
   "metadata": {},
   "outputs": [
    {
     "name": "stdout",
     "output_type": "stream",
     "text": [
      "True\n"
     ]
    }
   ],
   "source": [
    "print(cities. isdisjoint(cities2))"
   ]
  },
  {
   "cell_type": "code",
   "execution_count": 13,
   "id": "1ad9b1a8",
   "metadata": {},
   "outputs": [
    {
     "name": "stdout",
     "output_type": "stream",
     "text": [
      "False\n"
     ]
    }
   ],
   "source": [
    "print(cities. issuperset(cities2))"
   ]
  },
  {
   "cell_type": "code",
   "execution_count": 14,
   "id": "d6caac38",
   "metadata": {},
   "outputs": [
    {
     "name": "stdout",
     "output_type": "stream",
     "text": [
      "False\n"
     ]
    }
   ],
   "source": [
    "print(cities. issubset(cities2))"
   ]
  },
  {
   "cell_type": "code",
   "execution_count": 18,
   "id": "0a220533",
   "metadata": {},
   "outputs": [
    {
     "name": "stdout",
     "output_type": "stream",
     "text": [
      "{3, 30, 6, 7}\n"
     ]
    }
   ],
   "source": [
    "s2. add(30)\n",
    "print(s2)"
   ]
  },
  {
   "cell_type": "code",
   "execution_count": 22,
   "id": "5b94d060",
   "metadata": {},
   "outputs": [
    {
     "ename": "KeyError",
     "evalue": "'Nator'",
     "output_type": "error",
     "traceback": [
      "\u001b[1;31m---------------------------------------------------------------------------\u001b[0m",
      "\u001b[1;31mKeyError\u001b[0m                                  Traceback (most recent call last)",
      "\u001b[1;32m<ipython-input-22-f9edf45c1328>\u001b[0m in \u001b[0;36m<module>\u001b[1;34m\u001b[0m\n\u001b[0;32m      1\u001b[0m \u001b[1;31m# Throws an error if the value isn't present\u001b[0m\u001b[1;33m\u001b[0m\u001b[1;33m\u001b[0m\u001b[1;33m\u001b[0m\u001b[0m\n\u001b[1;32m----> 2\u001b[1;33m \u001b[0mcities\u001b[0m\u001b[1;33m.\u001b[0m \u001b[0mremove\u001b[0m\u001b[1;33m(\u001b[0m\u001b[1;34m\"Nator\"\u001b[0m\u001b[1;33m)\u001b[0m\u001b[1;33m\u001b[0m\u001b[1;33m\u001b[0m\u001b[0m\n\u001b[0m\u001b[0;32m      3\u001b[0m \u001b[0mprint\u001b[0m\u001b[1;33m(\u001b[0m\u001b[0mcities\u001b[0m\u001b[1;33m)\u001b[0m\u001b[1;33m\u001b[0m\u001b[1;33m\u001b[0m\u001b[0m\n",
      "\u001b[1;31mKeyError\u001b[0m: 'Nator'"
     ]
    }
   ],
   "source": [
    "# Throws an error if the value isn't present\n",
    "cities. remove(\"Nator\")\n",
    "print(cities)"
   ]
  },
  {
   "cell_type": "code",
   "execution_count": 23,
   "id": "b8feda43",
   "metadata": {},
   "outputs": [
    {
     "name": "stdout",
     "output_type": "stream",
     "text": [
      "{'Barishal', 'Bhola'}\n"
     ]
    }
   ],
   "source": [
    "cities. discard(\"Nator\")\n",
    "print(cities)"
   ]
  },
  {
   "cell_type": "code",
   "execution_count": 27,
   "id": "ea12f43a",
   "metadata": {},
   "outputs": [
    {
     "name": "stdout",
     "output_type": "stream",
     "text": [
      "{'Bhola', 'Rajshahi', 'Ctg'}\n",
      "Barishal\n"
     ]
    }
   ],
   "source": [
    "cities3 = {'Barishal', 'Bhola', 'Rajshahi', 'Ctg'}\n",
    "afterPop = cities3. pop()\n",
    "print(cities3)\n",
    "print(afterPop)"
   ]
  },
  {
   "cell_type": "code",
   "execution_count": 29,
   "id": "c6f77763",
   "metadata": {},
   "outputs": [
    {
     "ename": "NameError",
     "evalue": "name 'cities' is not defined",
     "output_type": "error",
     "traceback": [
      "\u001b[1;31m---------------------------------------------------------------------------\u001b[0m",
      "\u001b[1;31mNameError\u001b[0m                                 Traceback (most recent call last)",
      "\u001b[1;32m<ipython-input-29-d207b912a1f6>\u001b[0m in \u001b[0;36m<module>\u001b[1;34m\u001b[0m\n\u001b[0;32m      1\u001b[0m \u001b[1;31m# It's not a method, but keyword .Delete entirely\u001b[0m\u001b[1;33m\u001b[0m\u001b[1;33m\u001b[0m\u001b[1;33m\u001b[0m\u001b[0m\n\u001b[1;32m----> 2\u001b[1;33m \u001b[1;32mdel\u001b[0m \u001b[0mcities\u001b[0m\u001b[1;33m\u001b[0m\u001b[1;33m\u001b[0m\u001b[0m\n\u001b[0m\u001b[0;32m      3\u001b[0m \u001b[0mprint\u001b[0m\u001b[1;33m(\u001b[0m\u001b[0mcities\u001b[0m\u001b[1;33m)\u001b[0m\u001b[1;33m\u001b[0m\u001b[1;33m\u001b[0m\u001b[0m\n",
      "\u001b[1;31mNameError\u001b[0m: name 'cities' is not defined"
     ]
    }
   ],
   "source": [
    "# It's not a method, but keyword .Delete entirely \n",
    "del cities\n",
    "print(cities)"
   ]
  },
  {
   "cell_type": "code",
   "execution_count": 32,
   "id": "bbd29dc3",
   "metadata": {},
   "outputs": [
    {
     "name": "stdout",
     "output_type": "stream",
     "text": [
      "set()\n"
     ]
    }
   ],
   "source": [
    "# Clear the whole set and returns an empty set\n",
    "cities3. clear()\n",
    "print(cities3)\n"
   ]
  },
  {
   "cell_type": "code",
   "execution_count": null,
   "id": "42af0248",
   "metadata": {},
   "outputs": [],
   "source": []
  },
  {
   "cell_type": "code",
   "execution_count": null,
   "id": "76726884",
   "metadata": {},
   "outputs": [],
   "source": []
  }
 ],
 "metadata": {
  "kernelspec": {
   "display_name": "Python 3",
   "language": "python",
   "name": "python3"
  },
  "language_info": {
   "codemirror_mode": {
    "name": "ipython",
    "version": 3
   },
   "file_extension": ".py",
   "mimetype": "text/x-python",
   "name": "python",
   "nbconvert_exporter": "python",
   "pygments_lexer": "ipython3",
   "version": "3.8.8"
  }
 },
 "nbformat": 4,
 "nbformat_minor": 5
}
