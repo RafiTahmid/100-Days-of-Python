{
 "cells": [
  {
   "cell_type": "code",
   "execution_count": 2,
   "id": "0deeae20",
   "metadata": {},
   "outputs": [],
   "source": [
    "\n",
    "\n",
    "###There are 4 types of arguments\n"
   ]
  },
  {
   "cell_type": "code",
   "execution_count": 4,
   "id": "fd554ba7",
   "metadata": {},
   "outputs": [
    {
     "name": "stdout",
     "output_type": "stream",
     "text": [
      "The average is:  5.0\n"
     ]
    }
   ],
   "source": [
    "# Default argument\n",
    "\n",
    "def average(a= 9,b= 1):\n",
    "    print(\"The average is: \", (a+b)/ 2)\n",
    "average()"
   ]
  },
  {
   "cell_type": "code",
   "execution_count": 5,
   "id": "8a9e5e81",
   "metadata": {},
   "outputs": [],
   "source": [
    "#  Keyword arguments : Interpreter recognizes arguments by their name; The order in which the arguments are passed does'nt matter"
   ]
  },
  {
   "cell_type": "code",
   "execution_count": 6,
   "id": "3dc792eb",
   "metadata": {},
   "outputs": [],
   "source": [
    "# Required arguments: The number of arguments passed should match with actual function definition."
   ]
  },
  {
   "cell_type": "code",
   "execution_count": 11,
   "id": "9dba67db",
   "metadata": {},
   "outputs": [
    {
     "name": "stdout",
     "output_type": "stream",
     "text": [
      "average is:  7.5\n"
     ]
    }
   ],
   "source": [
    "# Arbitrary arguments: We can define as much as arguments with (*), placing * before any type of arguments we can take as much as we need.:\n",
    "\n",
    "def average(*numbers):\n",
    "    sum =0\n",
    "        \n",
    "    for i in numbers:\n",
    "            sum = sum + i\n",
    "    print(\"average is: \", sum/len(numbers))\n",
    "        \n",
    "average(3, 2, 10, 15)"
   ]
  },
  {
   "cell_type": "code",
   "execution_count": 12,
   "id": "56aed1f8",
   "metadata": {},
   "outputs": [],
   "source": [
    "### We can also use ** for printing something as a dictionary\n"
   ]
  },
  {
   "cell_type": "code",
   "execution_count": 14,
   "id": "a8dddb9c",
   "metadata": {},
   "outputs": [
    {
     "name": "stdout",
     "output_type": "stream",
     "text": [
      "7.5\n"
     ]
    }
   ],
   "source": [
    "# return: The return statement is used to return the value of the expession back to the calling function\n",
    "\n",
    "def average(*numbers):\n",
    "    sum =0\n",
    "        \n",
    "    for i in numbers:\n",
    "            sum = sum + i\n",
    "    return sum/len(numbers)\n",
    "        \n",
    "c = average(3, 2, 10, 15)\n",
    "print(c)"
   ]
  },
  {
   "cell_type": "code",
   "execution_count": null,
   "id": "677c56a8",
   "metadata": {},
   "outputs": [],
   "source": []
  }
 ],
 "metadata": {
  "kernelspec": {
   "display_name": "Python 3",
   "language": "python",
   "name": "python3"
  },
  "language_info": {
   "codemirror_mode": {
    "name": "ipython",
    "version": 3
   },
   "file_extension": ".py",
   "mimetype": "text/x-python",
   "name": "python",
   "nbconvert_exporter": "python",
   "pygments_lexer": "ipython3",
   "version": "3.8.8"
  }
 },
 "nbformat": 4,
 "nbformat_minor": 5
}
