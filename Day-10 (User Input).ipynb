{
 "cells": [
  {
   "cell_type": "code",
   "execution_count": 5,
   "id": "0271038b",
   "metadata": {},
   "outputs": [
    {
     "name": "stdout",
     "output_type": "stream",
     "text": [
      "Enter Your Name: Tahmid\n",
      "My name is: Tahmid\n"
     ]
    }
   ],
   "source": [
    "name = input(\"Enter Your Name: \" )\n",
    "print('My name is:', name)"
   ]
  },
  {
   "cell_type": "code",
   "execution_count": 6,
   "id": "2a3ebf9d",
   "metadata": {},
   "outputs": [
    {
     "name": "stdout",
     "output_type": "stream",
     "text": [
      "Enter 1st Number:10\n",
      "Enter 2nd Number:30\n",
      "1030\n",
      "40\n"
     ]
    }
   ],
   "source": [
    "x = input('Enter 1st Number:' )\n",
    "y = input('Enter 2nd Number:' )\n",
    "print( x + y )\n",
    "print( int(x) + int(y) )"
   ]
  },
  {
   "cell_type": "code",
   "execution_count": null,
   "id": "8a8f4ecd",
   "metadata": {},
   "outputs": [],
   "source": []
  }
 ],
 "metadata": {
  "kernelspec": {
   "display_name": "Python 3",
   "language": "python",
   "name": "python3"
  },
  "language_info": {
   "codemirror_mode": {
    "name": "ipython",
    "version": 3
   },
   "file_extension": ".py",
   "mimetype": "text/x-python",
   "name": "python",
   "nbconvert_exporter": "python",
   "pygments_lexer": "ipython3",
   "version": "3.8.8"
  }
 },
 "nbformat": 4,
 "nbformat_minor": 5
}
