{
 "cells": [
  {
   "cell_type": "code",
   "execution_count": 3,
   "id": "f439eb45",
   "metadata": {},
   "outputs": [
    {
     "name": "stdout",
     "output_type": "stream",
     "text": [
      "Enter your number: 4\n",
      "Your number is:  4\n",
      "Number is Positive\n"
     ]
    }
   ],
   "source": [
    "num = int(input(\"Enter your number: \"))\n",
    "print(\"Your number is: \", num)\n",
    "\n",
    "if (num < 0):\n",
    "    print(\"Number is Negative\")\n",
    "\n",
    "elif (num > 0):\n",
    "    print(\"Number is Positive\")\n",
    "    \n",
    "elif (num == 789):\n",
    "    print(\"Number is Cursed\")\n",
    "    \n",
    "else:\n",
    "    print(\"Number has gone\")"
   ]
  },
  {
   "cell_type": "code",
   "execution_count": 4,
   "id": "80299d61",
   "metadata": {},
   "outputs": [
    {
     "name": "stdout",
     "output_type": "stream",
     "text": [
      "Numer is less than 10\n"
     ]
    }
   ],
   "source": [
    "# Nested Condition:\n",
    "\n",
    "if (num < 0):\n",
    "    print(\"Number is Negative\")\n",
    "\n",
    "elif (num > 0):\n",
    "    if (num < 10):\n",
    "        print(\"Numer is less than 10\")\n",
    "    \n",
    "    else:\n",
    "        print(\"Number is greater than 10\")\n",
    "\n",
    "else:\n",
    "    print(\"Nothing\")"
   ]
  },
  {
   "cell_type": "code",
   "execution_count": null,
   "id": "66e5fe52",
   "metadata": {},
   "outputs": [],
   "source": []
  }
 ],
 "metadata": {
  "kernelspec": {
   "display_name": "Python 3",
   "language": "python",
   "name": "python3"
  },
  "language_info": {
   "codemirror_mode": {
    "name": "ipython",
    "version": 3
   },
   "file_extension": ".py",
   "mimetype": "text/x-python",
   "name": "python",
   "nbconvert_exporter": "python",
   "pygments_lexer": "ipython3",
   "version": "3.8.8"
  }
 },
 "nbformat": 4,
 "nbformat_minor": 5
}
