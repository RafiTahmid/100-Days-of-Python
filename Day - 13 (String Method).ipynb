{
 "cells": [
  {
   "cell_type": "code",
   "execution_count": 2,
   "id": "922c44ff",
   "metadata": {},
   "outputs": [
    {
     "name": "stdout",
     "output_type": "stream",
     "text": [
      "Tahmid\n"
     ]
    }
   ],
   "source": [
    "a = \"Tahmid!!!!!\"\n",
    "print(a.rstrip('!'))"
   ]
  },
  {
   "cell_type": "code",
   "execution_count": 7,
   "id": "410af892",
   "metadata": {},
   "outputs": [
    {
     "name": "stdout",
     "output_type": "stream",
     "text": [
      "Rafi!!!!!\n"
     ]
    }
   ],
   "source": [
    "print(a.replace('Tahmid','Rafi'))"
   ]
  },
  {
   "cell_type": "code",
   "execution_count": 9,
   "id": "9eb6a3c3",
   "metadata": {},
   "outputs": [
    {
     "name": "stdout",
     "output_type": "stream",
     "text": [
      "tahmid!!!!!\n"
     ]
    }
   ],
   "source": [
    "print(a. lower())"
   ]
  },
  {
   "cell_type": "code",
   "execution_count": 12,
   "id": "1c1fd314",
   "metadata": {},
   "outputs": [
    {
     "name": "stdout",
     "output_type": "stream",
     "text": [
      "['tahmid', 'rafi']\n"
     ]
    }
   ],
   "source": [
    "b = \"tahmid rafi\"\n",
    "print(b. split(\" \"))"
   ]
  },
  {
   "cell_type": "code",
   "execution_count": 13,
   "id": "28091764",
   "metadata": {},
   "outputs": [
    {
     "name": "stdout",
     "output_type": "stream",
     "text": [
      "Tahmid rafi\n"
     ]
    }
   ],
   "source": [
    "print(b. capitalize())"
   ]
  },
  {
   "cell_type": "code",
   "execution_count": 14,
   "id": "e8e120f2",
   "metadata": {},
   "outputs": [
    {
     "name": "stdout",
     "output_type": "stream",
     "text": [
      "                   Tahmid!!!!!                    \n"
     ]
    }
   ],
   "source": [
    "print(a.center(50))"
   ]
  },
  {
   "cell_type": "code",
   "execution_count": 16,
   "id": "c226051c",
   "metadata": {},
   "outputs": [
    {
     "name": "stdout",
     "output_type": "stream",
     "text": [
      "True\n"
     ]
    }
   ],
   "source": [
    "print(a. endswith(\"!!\"))"
   ]
  },
  {
   "cell_type": "code",
   "execution_count": 18,
   "id": "6f4bb525",
   "metadata": {},
   "outputs": [
    {
     "name": "stdout",
     "output_type": "stream",
     "text": [
      "3\n"
     ]
    }
   ],
   "source": [
    "# finds the first Index\n",
    "print(b. find('mi')) "
   ]
  },
  {
   "cell_type": "code",
   "execution_count": 19,
   "id": "10420f7c",
   "metadata": {},
   "outputs": [
    {
     "name": "stdout",
     "output_type": "stream",
     "text": [
      "False\n"
     ]
    }
   ],
   "source": [
    "print(b. isspace()) "
   ]
  },
  {
   "cell_type": "code",
   "execution_count": 20,
   "id": "a98f2c17",
   "metadata": {},
   "outputs": [
    {
     "name": "stdout",
     "output_type": "stream",
     "text": [
      "False\n"
     ]
    }
   ],
   "source": [
    "print(b. istitle()) "
   ]
  },
  {
   "cell_type": "code",
   "execution_count": 22,
   "id": "00dd3177",
   "metadata": {},
   "outputs": [
    {
     "name": "stdout",
     "output_type": "stream",
     "text": [
      "TAHMID RAFI\n"
     ]
    }
   ],
   "source": [
    "print(b. swapcase()) "
   ]
  },
  {
   "cell_type": "code",
   "execution_count": null,
   "id": "2c9cfc5d",
   "metadata": {},
   "outputs": [],
   "source": []
  }
 ],
 "metadata": {
  "kernelspec": {
   "display_name": "Python 3",
   "language": "python",
   "name": "python3"
  },
  "language_info": {
   "codemirror_mode": {
    "name": "ipython",
    "version": 3
   },
   "file_extension": ".py",
   "mimetype": "text/x-python",
   "name": "python",
   "nbconvert_exporter": "python",
   "pygments_lexer": "ipython3",
   "version": "3.8.8"
  }
 },
 "nbformat": 4,
 "nbformat_minor": 5
}
