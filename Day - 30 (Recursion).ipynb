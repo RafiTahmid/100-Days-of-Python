{
 "cells": [
  {
   "cell_type": "code",
   "execution_count": 3,
   "id": "303b1697",
   "metadata": {},
   "outputs": [],
   "source": [
    "# factorial(5) = 5* 4* 3* 2* 1\n",
    "# factorial(1) = 1\n",
    "# factorial(0) = 1\n",
    "# factorial(n) = n* factorial(n-1)"
   ]
  },
  {
   "cell_type": "code",
   "execution_count": 5,
   "id": "3ef8f27e",
   "metadata": {},
   "outputs": [
    {
     "name": "stdout",
     "output_type": "stream",
     "text": [
      "120\n"
     ]
    }
   ],
   "source": [
    "def factorial(n):\n",
    "    if (n == 0 or n == 1):\n",
    "        return 1\n",
    "    else:\n",
    "        return n* factorial(n-1)\n",
    "print(factorial(5))"
   ]
  },
  {
   "cell_type": "code",
   "execution_count": null,
   "id": "7cbbd75b",
   "metadata": {},
   "outputs": [],
   "source": [
    "# fibonacci sequence\n",
    "\n",
    "# f(0) = 0\n",
    "# f(1) = 1\n",
    "\n",
    "# f(2) = f(1) + f(0)\n",
    "# f(5) = f(5-1) + f(5-2)\n",
    "\n",
    "\n",
    "def fibonacci(n):\n",
    "    if (n == 0):\n",
    "        return 0\n",
    "    elif (n == 1):\n",
    "        return 1\n",
    "    else:\n",
    "        return n(n-1) + n(n-2)       "
   ]
  }
 ],
 "metadata": {
  "kernelspec": {
   "display_name": "Python 3",
   "language": "python",
   "name": "python3"
  },
  "language_info": {
   "codemirror_mode": {
    "name": "ipython",
    "version": 3
   },
   "file_extension": ".py",
   "mimetype": "text/x-python",
   "name": "python",
   "nbconvert_exporter": "python",
   "pygments_lexer": "ipython3",
   "version": "3.8.8"
  }
 },
 "nbformat": 4,
 "nbformat_minor": 5
}
