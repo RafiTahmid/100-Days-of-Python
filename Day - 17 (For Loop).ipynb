{
 "cells": [
  {
   "cell_type": "code",
   "execution_count": 3,
   "id": "74aba883",
   "metadata": {},
   "outputs": [
    {
     "name": "stdout",
     "output_type": "stream",
     "text": [
      "T,a,h,This is something special\n",
      "m,i,d,"
     ]
    }
   ],
   "source": [
    "name = \"Tahmid\"\n",
    "for i in name:\n",
    "    print(i, end=\",\")\n",
    "    if (i == \"h\"):\n",
    "        print(\"This is something special\")"
   ]
  },
  {
   "cell_type": "code",
   "execution_count": 5,
   "id": "4f42e771",
   "metadata": {},
   "outputs": [
    {
     "name": "stdout",
     "output_type": "stream",
     "text": [
      "Red\n",
      "R\n",
      "e\n",
      "d\n",
      "Blue\n",
      "B\n",
      "l\n",
      "u\n",
      "e\n",
      "Green\n",
      "G\n",
      "r\n",
      "e\n",
      "e\n",
      "n\n"
     ]
    }
   ],
   "source": [
    "colors = [\"Red\",\"Blue\", \"Green\"]\n",
    "for color in colors:\n",
    "    print(color)\n",
    "    for _ in color:\n",
    "        print(_)"
   ]
  },
  {
   "cell_type": "code",
   "execution_count": 7,
   "id": "07a6ec11",
   "metadata": {},
   "outputs": [
    {
     "name": "stdout",
     "output_type": "stream",
     "text": [
      "0\n",
      "1\n",
      "2\n",
      "3\n",
      "4\n"
     ]
    }
   ],
   "source": [
    "for _ in range(5):\n",
    "    print(_)"
   ]
  },
  {
   "cell_type": "code",
   "execution_count": 8,
   "id": "6aa34653",
   "metadata": {},
   "outputs": [
    {
     "name": "stdout",
     "output_type": "stream",
     "text": [
      "1\n",
      "2\n",
      "3\n",
      "4\n",
      "5\n"
     ]
    }
   ],
   "source": [
    "for _ in range(5):\n",
    "    print(_ + 1)"
   ]
  },
  {
   "cell_type": "code",
   "execution_count": 9,
   "id": "62574fc1",
   "metadata": {},
   "outputs": [
    {
     "name": "stdout",
     "output_type": "stream",
     "text": [
      "5\n",
      "6\n",
      "7\n",
      "8\n",
      "9\n"
     ]
    }
   ],
   "source": [
    "for _ in range(5, 10):\n",
    "    print(_)"
   ]
  },
  {
   "cell_type": "code",
   "execution_count": 12,
   "id": "8c718e49",
   "metadata": {},
   "outputs": [
    {
     "name": "stdout",
     "output_type": "stream",
     "text": [
      "3\n",
      "8\n",
      "13\n"
     ]
    }
   ],
   "source": [
    "for _ in range(3, 15, 5):\n",
    "    print(_)"
   ]
  },
  {
   "cell_type": "code",
   "execution_count": null,
   "id": "8c1ffbee",
   "metadata": {},
   "outputs": [],
   "source": []
  }
 ],
 "metadata": {
  "kernelspec": {
   "display_name": "Python 3",
   "language": "python",
   "name": "python3"
  },
  "language_info": {
   "codemirror_mode": {
    "name": "ipython",
    "version": 3
   },
   "file_extension": ".py",
   "mimetype": "text/x-python",
   "name": "python",
   "nbconvert_exporter": "python",
   "pygments_lexer": "ipython3",
   "version": "3.8.8"
  }
 },
 "nbformat": 4,
 "nbformat_minor": 5
}
