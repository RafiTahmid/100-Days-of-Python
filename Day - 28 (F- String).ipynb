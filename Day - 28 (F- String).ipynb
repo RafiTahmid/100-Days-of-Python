{
 "cells": [
  {
   "cell_type": "code",
   "execution_count": 1,
   "id": "b1cf12d8",
   "metadata": {},
   "outputs": [
    {
     "name": "stdout",
     "output_type": "stream",
     "text": [
      "Hey my name is Tahmid and I am from Bangladesh\n"
     ]
    }
   ],
   "source": [
    "letter = \"Hey my name is {} and I am from {}\"\n",
    "\n",
    "country = \"Bangladesh\"\n",
    "name = \"Tahmid\"\n",
    "\n",
    "print(letter. format(name, country))"
   ]
  },
  {
   "cell_type": "code",
   "execution_count": 4,
   "id": "91fa7afa",
   "metadata": {},
   "outputs": [
    {
     "name": "stdout",
     "output_type": "stream",
     "text": [
      "Hey my name is Tahmid and I am from Bangladesh\n",
      "Hey my name is {name} and I am from {country}\n"
     ]
    }
   ],
   "source": [
    "# using f-string\n",
    "\n",
    "print(f\"Hey my name is {name} and I am from {country}\")\n",
    "print(f\"Hey my name is {{name}} and I am from {{country}}\")"
   ]
  },
  {
   "cell_type": "code",
   "execution_count": 3,
   "id": "f78ae0fe",
   "metadata": {},
   "outputs": [
    {
     "name": "stdout",
     "output_type": "stream",
     "text": [
      "For only  50.00\n"
     ]
    }
   ],
   "source": [
    "price = 49.99999\n",
    "txt = f\"For only {price: .2f}\"\n",
    "print(txt)"
   ]
  },
  {
   "cell_type": "code",
   "execution_count": null,
   "id": "7c39f541",
   "metadata": {},
   "outputs": [],
   "source": []
  }
 ],
 "metadata": {
  "kernelspec": {
   "display_name": "Python 3",
   "language": "python",
   "name": "python3"
  },
  "language_info": {
   "codemirror_mode": {
    "name": "ipython",
    "version": 3
   },
   "file_extension": ".py",
   "mimetype": "text/x-python",
   "name": "python",
   "nbconvert_exporter": "python",
   "pygments_lexer": "ipython3",
   "version": "3.8.8"
  }
 },
 "nbformat": 4,
 "nbformat_minor": 5
}
