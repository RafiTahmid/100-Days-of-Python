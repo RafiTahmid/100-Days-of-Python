{
 "cells": [
  {
   "cell_type": "code",
   "execution_count": 3,
   "id": "89c1e962",
   "metadata": {},
   "outputs": [
    {
     "name": "stdout",
     "output_type": "stream",
     "text": [
      "MD.\n",
      " Tah\n"
     ]
    }
   ],
   "source": [
    "name = 'MD. Tahmid Rafi'\n",
    "print( name[0:3])\n",
    "print( name[3:7])"
   ]
  },
  {
   "cell_type": "code",
   "execution_count": 4,
   "id": "0e6da5bf",
   "metadata": {},
   "outputs": [
    {
     "name": "stdout",
     "output_type": "stream",
     "text": [
      "ifaR dimhaT .DM\n"
     ]
    }
   ],
   "source": [
    "print( name[::-1])\n"
   ]
  },
  {
   "cell_type": "code",
   "execution_count": 6,
   "id": "d7a92de2",
   "metadata": {},
   "outputs": [
    {
     "name": "stdout",
     "output_type": "stream",
     "text": [
      "15\n"
     ]
    }
   ],
   "source": [
    "print(len(name))"
   ]
  },
  {
   "cell_type": "code",
   "execution_count": 7,
   "id": "5bee326b",
   "metadata": {},
   "outputs": [
    {
     "name": "stdout",
     "output_type": "stream",
     "text": [
      "MD. Tahmid R\n"
     ]
    }
   ],
   "source": [
    "print( name[0:-3])"
   ]
  },
  {
   "cell_type": "code",
   "execution_count": 9,
   "id": "420b0a4c",
   "metadata": {},
   "outputs": [
    {
     "name": "stdout",
     "output_type": "stream",
     "text": [
      "a\n"
     ]
    }
   ],
   "source": [
    "print( name[-3:-2])"
   ]
  },
  {
   "cell_type": "code",
   "execution_count": null,
   "id": "45eea67a",
   "metadata": {},
   "outputs": [],
   "source": [
    "nm == \"Harry\"\n",
    "print(nm[-4:-2])\n",
    "1:3\n",
    "    ar"
   ]
  }
 ],
 "metadata": {
  "kernelspec": {
   "display_name": "Python 3",
   "language": "python",
   "name": "python3"
  },
  "language_info": {
   "codemirror_mode": {
    "name": "ipython",
    "version": 3
   },
   "file_extension": ".py",
   "mimetype": "text/x-python",
   "name": "python",
   "nbconvert_exporter": "python",
   "pygments_lexer": "ipython3",
   "version": "3.8.8"
  }
 },
 "nbformat": 4,
 "nbformat_minor": 5
}
