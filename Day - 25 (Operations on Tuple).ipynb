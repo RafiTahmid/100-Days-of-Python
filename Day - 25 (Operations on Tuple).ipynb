{
 "cells": [
  {
   "cell_type": "code",
   "execution_count": 7,
   "id": "1754eb64",
   "metadata": {},
   "outputs": [
    {
     "name": "stdout",
     "output_type": "stream",
     "text": [
      "['Spain', 'Italy', 'India', 'England', 'Germany', 'Russia']\n"
     ]
    }
   ],
   "source": [
    "# Can't change the tuple but to make change: tuple -> list -> change -> list -> tuple \n",
    "\n",
    "countries = (\"Spain\", \"Italy\", \"India\", \"England\", \"Germany\")\n",
    "temp = list(countries)\n",
    "temp.append(\"Russia\")\n",
    "print(temp)"
   ]
  },
  {
   "cell_type": "code",
   "execution_count": 8,
   "id": "76a4d401",
   "metadata": {},
   "outputs": [
    {
     "name": "stdout",
     "output_type": "stream",
     "text": [
      "['Spain', 'Italy', 'India', 'Germany', 'Russia']\n"
     ]
    }
   ],
   "source": [
    "temp. pop(3)\n",
    "print(temp)"
   ]
  },
  {
   "cell_type": "code",
   "execution_count": 9,
   "id": "89c9a348",
   "metadata": {},
   "outputs": [
    {
     "name": "stdout",
     "output_type": "stream",
     "text": [
      "('Spain', 'Italy', 'Finland', 'Germany', 'Russia')\n"
     ]
    }
   ],
   "source": [
    "temp[2] = \"Finland\"\n",
    "countries = tuple(temp)\n",
    "print(countries)"
   ]
  },
  {
   "cell_type": "code",
   "execution_count": 12,
   "id": "3e361b1e",
   "metadata": {},
   "outputs": [
    {
     "name": "stdout",
     "output_type": "stream",
     "text": [
      "('Dhaka', 'Karachi', 'Delhi', 'Kathmundu', 'Thimpu', 'Colombo')\n"
     ]
    }
   ],
   "source": [
    "# Can concat\n",
    "city = (\"Dhaka\", \"Karachi\", \"Delhi\")\n",
    "city2 = (\"Kathmundu\", \"Thimpu\", \"Colombo\")\n",
    "afterConcat = city + city2\n",
    "print(afterConcat)"
   ]
  },
  {
   "cell_type": "code",
   "execution_count": 16,
   "id": "f0249127",
   "metadata": {},
   "outputs": [
    {
     "name": "stdout",
     "output_type": "stream",
     "text": [
      "Count of 3 is:  3\n",
      "Index of 1 is:  2\n"
     ]
    }
   ],
   "source": [
    "tuple1 = (0, 0, 1, 3, 2, 6, 1 ,7, 3, 3)\n",
    "countOf3 = tuple1. count(3)\n",
    "\n",
    "# Give index of the first occurence\n",
    "indexOf = tuple1. index(1)\n",
    "print(\"Count of 3 is: \", countOf3)\n",
    "print(\"Index of 1 is: \", indexOf)"
   ]
  },
  {
   "cell_type": "code",
   "execution_count": null,
   "id": "bb106615",
   "metadata": {},
   "outputs": [],
   "source": []
  }
 ],
 "metadata": {
  "kernelspec": {
   "display_name": "Python 3",
   "language": "python",
   "name": "python3"
  },
  "language_info": {
   "codemirror_mode": {
    "name": "ipython",
    "version": 3
   },
   "file_extension": ".py",
   "mimetype": "text/x-python",
   "name": "python",
   "nbconvert_exporter": "python",
   "pygments_lexer": "ipython3",
   "version": "3.8.8"
  }
 },
 "nbformat": 4,
 "nbformat_minor": 5
}
