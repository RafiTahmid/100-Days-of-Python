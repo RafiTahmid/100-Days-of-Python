{
 "cells": [
  {
   "cell_type": "code",
   "execution_count": 3,
   "id": "cf40c290",
   "metadata": {},
   "outputs": [],
   "source": [
    "name = \"Tahmid\"\n",
    "friend = \"OakenShield\"\n",
    "another_friend = \"Bilbo \\ 'Baggins'\"\n",
    "another_another_friend = \n",
    "'''\n",
    "cshhcls\n",
    "qchdhqd\n",
    "\n",
    "'''"
   ]
  },
  {
   "cell_type": "code",
   "execution_count": 9,
   "id": "9d26ac38",
   "metadata": {},
   "outputs": [
    {
     "name": "stdout",
     "output_type": "stream",
     "text": [
      "HelloTahmid OakenShield Bilbo \\ 'Baggins' \n",
      "cshhcls\n",
      "qchdhqd\n",
      "\n"
     ]
    }
   ],
   "source": [
    "print(\"Hello\" + name , friend, another_friend, another_another_friend)"
   ]
  },
  {
   "cell_type": "code",
   "execution_count": 10,
   "id": "c084ff96",
   "metadata": {},
   "outputs": [
    {
     "name": "stdout",
     "output_type": "stream",
     "text": [
      "\n",
      "\n",
      "c\n",
      "s\n",
      "h\n",
      "h\n",
      "c\n",
      "l\n",
      "s\n",
      "\n",
      "\n",
      "q\n",
      "c\n",
      "h\n",
      "d\n",
      "h\n",
      "q\n",
      "d\n",
      "\n",
      "\n"
     ]
    }
   ],
   "source": [
    "for _ in another_another_friend:\n",
    "    print(_)"
   ]
  },
  {
   "cell_type": "code",
   "execution_count": null,
   "id": "b19c1f60",
   "metadata": {},
   "outputs": [],
   "source": []
  }
 ],
 "metadata": {
  "kernelspec": {
   "display_name": "Python 3",
   "language": "python",
   "name": "python3"
  },
  "language_info": {
   "codemirror_mode": {
    "name": "ipython",
    "version": 3
   },
   "file_extension": ".py",
   "mimetype": "text/x-python",
   "name": "python",
   "nbconvert_exporter": "python",
   "pygments_lexer": "ipython3",
   "version": "3.8.8"
  }
 },
 "nbformat": 4,
 "nbformat_minor": 5
}
