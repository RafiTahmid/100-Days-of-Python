{
 "cells": [
  {
   "cell_type": "code",
   "execution_count": 6,
   "id": "d3ca5926",
   "metadata": {},
   "outputs": [
    {
     "name": "stdout",
     "output_type": "stream",
     "text": [
      "Enter the number: a\n",
      "Multiplication table of a is: \n",
      "Invalid Input\n",
      "End of Program\n"
     ]
    }
   ],
   "source": [
    "a = input(\"Enter the number: \")\n",
    "print(f\"Multiplication table of {a} is: \")\n",
    "\n",
    "try:\n",
    "    for i in range(1, 11):\n",
    "        print(f\"int(a) X {i} = {int(a)* i}\")\n",
    "except:\n",
    "    print(\"Invalid Input\")\n",
    "    \n",
    "print(\"End of Program\")    "
   ]
  },
  {
   "cell_type": "code",
   "execution_count": null,
   "id": "8e15cdb8",
   "metadata": {},
   "outputs": [],
   "source": []
  }
 ],
 "metadata": {
  "kernelspec": {
   "display_name": "Python 3",
   "language": "python",
   "name": "python3"
  },
  "language_info": {
   "codemirror_mode": {
    "name": "ipython",
    "version": 3
   },
   "file_extension": ".py",
   "mimetype": "text/x-python",
   "name": "python",
   "nbconvert_exporter": "python",
   "pygments_lexer": "ipython3",
   "version": "3.8.8"
  }
 },
 "nbformat": 4,
 "nbformat_minor": 5
}
