{
 "cells": [
  {
   "cell_type": "code",
   "execution_count": 1,
   "id": "6f6881f0",
   "metadata": {},
   "outputs": [],
   "source": [
    "ep1 = { 122: 83, 244: 90, 189: 56, 169: 69 }\n",
    "ep2 = { 555: 99, 222: 88}"
   ]
  },
  {
   "cell_type": "code",
   "execution_count": 2,
   "id": "5a45c401",
   "metadata": {},
   "outputs": [
    {
     "name": "stdout",
     "output_type": "stream",
     "text": [
      "{122: 83, 244: 90, 189: 56, 169: 69, 555: 99, 222: 88}\n"
     ]
    }
   ],
   "source": [
    "ep1.update(ep2)\n",
    "print(ep1)"
   ]
  },
  {
   "cell_type": "code",
   "execution_count": 4,
   "id": "216f4584",
   "metadata": {},
   "outputs": [
    {
     "name": "stdout",
     "output_type": "stream",
     "text": [
      "{}\n"
     ]
    }
   ],
   "source": [
    "ep1. clear()\n",
    "print(ep1)"
   ]
  },
  {
   "cell_type": "code",
   "execution_count": 6,
   "id": "a6dcb03a",
   "metadata": {},
   "outputs": [
    {
     "name": "stdout",
     "output_type": "stream",
     "text": [
      "{555: 99}\n"
     ]
    }
   ],
   "source": [
    "ep2.pop(222)\n",
    "print(ep2)"
   ]
  },
  {
   "cell_type": "code",
   "execution_count": 16,
   "id": "a090728f",
   "metadata": {},
   "outputs": [],
   "source": [
    "ep3 = { 122: 83, 244: 90, 189: 56, 169: 69 }\n"
   ]
  },
  {
   "cell_type": "code",
   "execution_count": 17,
   "id": "8ee09e1a",
   "metadata": {},
   "outputs": [
    {
     "name": "stdout",
     "output_type": "stream",
     "text": [
      "{122: 83, 244: 90, 189: 56}\n"
     ]
    }
   ],
   "source": [
    "# removes the last item\n",
    "ep3.popitem()\n",
    "print(ep3)"
   ]
  },
  {
   "cell_type": "code",
   "execution_count": 18,
   "id": "19391143",
   "metadata": {},
   "outputs": [
    {
     "ename": "NameError",
     "evalue": "name 'ep2' is not defined",
     "output_type": "error",
     "traceback": [
      "\u001b[1;31m---------------------------------------------------------------------------\u001b[0m",
      "\u001b[1;31mNameError\u001b[0m                                 Traceback (most recent call last)",
      "\u001b[1;32m<ipython-input-18-bdda26aa3087>\u001b[0m in \u001b[0;36m<module>\u001b[1;34m\u001b[0m\n\u001b[1;32m----> 1\u001b[1;33m \u001b[1;32mdel\u001b[0m \u001b[0mep2\u001b[0m\u001b[1;33m\u001b[0m\u001b[1;33m\u001b[0m\u001b[0m\n\u001b[0m\u001b[0;32m      2\u001b[0m \u001b[0mprint\u001b[0m\u001b[1;33m(\u001b[0m\u001b[0mep2\u001b[0m\u001b[1;33m)\u001b[0m\u001b[1;33m\u001b[0m\u001b[1;33m\u001b[0m\u001b[0m\n",
      "\u001b[1;31mNameError\u001b[0m: name 'ep2' is not defined"
     ]
    }
   ],
   "source": [
    "del ep2\n",
    "print(ep2)"
   ]
  },
  {
   "cell_type": "code",
   "execution_count": 19,
   "id": "30e89cfb",
   "metadata": {},
   "outputs": [
    {
     "name": "stdout",
     "output_type": "stream",
     "text": [
      "{122: 83, 189: 56}\n"
     ]
    }
   ],
   "source": [
    "del ep3[244]\n",
    "print(ep3)"
   ]
  },
  {
   "cell_type": "code",
   "execution_count": null,
   "id": "3c1a5434",
   "metadata": {},
   "outputs": [],
   "source": []
  },
  {
   "cell_type": "code",
   "execution_count": null,
   "id": "485825f7",
   "metadata": {},
   "outputs": [],
   "source": []
  }
 ],
 "metadata": {
  "kernelspec": {
   "display_name": "Python 3",
   "language": "python",
   "name": "python3"
  },
  "language_info": {
   "codemirror_mode": {
    "name": "ipython",
    "version": 3
   },
   "file_extension": ".py",
   "mimetype": "text/x-python",
   "name": "python",
   "nbconvert_exporter": "python",
   "pygments_lexer": "ipython3",
   "version": "3.8.8"
  }
 },
 "nbformat": 4,
 "nbformat_minor": 5
}
